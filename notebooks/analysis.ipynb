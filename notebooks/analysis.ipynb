{
  "cells": [
    {
      "cell_type": "markdown",
      "metadata": {},
      "source": [
        "# Irish Cities Sustainability Index - Analysis\n",
        "\n",
        "**By:** Shaposhnikov Pavlo  \n",
        "**Student ID:** 22370072@studentmail.ul.ie  \n",
        "**Program:** Final Year Economics & Finance\n",
        "\n",
        "This notebook shows the analysis process for the Irish Cities Sustainability Index project.\n"
      ]
    }
  ],
  "metadata": {
    "language_info": {
      "name": "python"
    }
  },
  "nbformat": 4,
  "nbformat_minor": 2
}
